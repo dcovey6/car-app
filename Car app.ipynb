{
 "cells": [
  {
   "cell_type": "code",
   "execution_count": 4,
   "id": "a09acf12",
   "metadata": {},
   "outputs": [
    {
     "name": "stdout",
     "output_type": "stream",
     "text": [
      "Enter the year your car was made: 1968\n",
      "Enter the make: Ford\n",
      "Enter the model of your car: Ford Mustang GT 428 SCJ \n",
      "Enter the number of doors (2 or 4): 2\n",
      "Enter the type of roof (solid or sun roof): solid\n",
      "\n",
      "Vehicle Information:\n",
      "Vehicle type: car\n",
      "Year: 1968\n",
      "Make: Ford\n",
      "Model: Ford Mustang GT 428 SCJ \n",
      "Number of doors: 2\n",
      "Type of roof: solid\n"
     ]
    }
   ],
   "source": [
    "class Vehicle:\n",
    "    def __init__(self):\n",
    "        self.vehicle_type = \"\"\n",
    "\n",
    "    def set_vehicle_type(self, vehicle_type):\n",
    "        self.vehicle_type = vehicle_type\n",
    "\n",
    "\n",
    "class Automobile(Vehicle):\n",
    "    def __init__(self):\n",
    "        super().__init__()\n",
    "        self.year = \"\"\n",
    "        self.make = \"\"\n",
    "        self.model = \"\"\n",
    "        self.doors = \"\"\n",
    "        self.roof = \"\"\n",
    "\n",
    "    def get_user_input(self):\n",
    "        self.set_vehicle_type(\"car\")\n",
    "        self.year = input(\"Enter the year your car was made: \")\n",
    "        self.make = input(\"Enter the make: \")\n",
    "        self.model = input(\"Enter the model of your car: \")\n",
    "        self.doors = input(\"Enter the number of doors (2 or 4): \")\n",
    "        self.roof = input(\"Enter the type of roof (solid or sun roof): \")\n",
    "\n",
    "    def display_vehicle_info(self):\n",
    "        print(\"Vehicle type:\", self.vehicle_type)\n",
    "        print(\"Year:\", self.year)\n",
    "        print(\"Make:\", self.make)\n",
    "        print(\"Model:\", self.model)\n",
    "        print(\"Number of doors:\", self.doors)\n",
    "        print(\"Type of roof:\", self.roof)\n",
    "\n",
    "\n",
    "def main():\n",
    "    car = Automobile()\n",
    "    car.get_user_input()\n",
    "    print(\"\\nVehicle Information:\")\n",
    "    car.display_vehicle_info()\n",
    "\n",
    "\n",
    "if __name__ == \"__main__\":\n",
    "    main()"
   ]
  },
  {
   "cell_type": "code",
   "execution_count": null,
   "id": "ffabe587",
   "metadata": {},
   "outputs": [],
   "source": []
  }
 ],
 "metadata": {
  "kernelspec": {
   "display_name": "Python 3 (ipykernel)",
   "language": "python",
   "name": "python3"
  },
  "language_info": {
   "codemirror_mode": {
    "name": "ipython",
    "version": 3
   },
   "file_extension": ".py",
   "mimetype": "text/x-python",
   "name": "python",
   "nbconvert_exporter": "python",
   "pygments_lexer": "ipython3",
   "version": "3.11.5"
  }
 },
 "nbformat": 4,
 "nbformat_minor": 5
}
